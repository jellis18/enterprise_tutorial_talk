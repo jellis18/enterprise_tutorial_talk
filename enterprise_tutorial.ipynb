{
 "cells": [
  {
   "cell_type": "code",
   "execution_count": 2,
   "metadata": {
    "slideshow": {
     "slide_type": "skip"
    }
   },
   "outputs": [
    {
     "name": "stdout",
     "output_type": "stream",
     "text": [
      "Do not have mpi4py package.\n",
      "Do not have acor package\n"
     ]
    }
   ],
   "source": [
    "from __future__ import division\n",
    "import numpy as np\n",
    "import glob\n",
    "import matplotlib.pyplot as plt\n",
    "import cPickle as pickle\n",
    "import scipy.linalg as sl\n",
    "import scipy.special as ss\n",
    "\n",
    "import enterprise\n",
    "from enterprise.signals import parameter\n",
    "from enterprise.pulsar import Pulsar\n",
    "from enterprise.signals import selections\n",
    "from enterprise.signals import signal_base\n",
    "from enterprise.signals import white_signals\n",
    "from enterprise.signals import gp_signals\n",
    "from enterprise.signals import deterministic_signals\n",
    "import enterprise.constants as const\n",
    "from enterprise.signals import utils\n",
    "\n",
    "from tests.enterprise_test_data import datadir\n",
    "\n",
    "from PTMCMCSampler.PTMCMCSampler import PTSampler as ptmcmc\n",
    "from corner import corner, quantile\n",
    "\n",
    "% matplotlib inline\n",
    "%config InlineBackend.figure_format = 'retina'"
   ]
  },
  {
   "cell_type": "markdown",
   "metadata": {
    "slideshow": {
     "slide_type": "slide"
    }
   },
   "source": [
    "# Introducing `enterprise`\n",
    "\n",
    "<img src=\"img/enterprise.jpg\" max-width=\"100%\"/>\n",
    "\n",
    "**by: Justin Ellis$^{1,2}$, Michele Vallisneri$^2$, Paul Baker$^1$, Steve Taylor$^2$**\n",
    "\n",
    "$^1$  Center for Gravitational Waves and Cosmology, West Virginia University\n",
    "\n",
    "$^2$ Jet Propulsion Laboratory, California Institute of Technology"
   ]
  },
  {
   "cell_type": "markdown",
   "metadata": {
    "slideshow": {
     "slide_type": "slide"
    }
   },
   "source": [
    "## What is `enterprise` ?\n",
    "\n",
    "* `enterprise` is an **E**nhanced **N**umerical **T**oolbox **E**nabling a **R**obust **P**ulsa**R** **I**nference **S**uit**E** (complaints about this backronym are to be directed to Steve Taylor)"
   ]
  },
  {
   "cell_type": "markdown",
   "metadata": {
    "slideshow": {
     "slide_type": "fragment"
    }
   },
   "source": [
    "* Setting aside this backronym, `enterprise` really is a toolbox, **not** a set of *black box* functions and scripts!"
   ]
  },
  {
   "cell_type": "markdown",
   "metadata": {
    "slideshow": {
     "slide_type": "fragment"
    }
   },
   "source": [
    "* Extremely well tested (91% coverage!), well [documented](https://enterprise.readthedocs.io/), and easy to use and to modify."
   ]
  },
  {
   "cell_type": "markdown",
   "metadata": {
    "slideshow": {
     "slide_type": "fragment"
    }
   },
   "source": [
    "* Code development is done in a collaborative \"fork and pull request\" workflow.\n",
    "    * PRs must pass all unit tests including syntactic `pep8` tests.\n",
    "    * PRs must provide tests for new functionality (i.e. test coverage cannot drop).\n",
    "    * PRs must be reviewed by code maintainers."
   ]
  },
  {
   "cell_type": "markdown",
   "metadata": {
    "slideshow": {
     "slide_type": "slide"
    }
   },
   "source": [
    "## Why do we need `enterprise`?"
   ]
  },
  {
   "cell_type": "markdown",
   "metadata": {
    "slideshow": {
     "slide_type": "fragment"
    }
   },
   "source": [
    "* Have you seen `PAL2`/`NX01`/`piccard` code?"
   ]
  },
  {
   "cell_type": "markdown",
   "metadata": {
    "slideshow": {
     "slide_type": "fragment"
    }
   },
   "source": [
    "* Need ability to add more complicated and customized signals to PTA models. "
   ]
  },
  {
   "cell_type": "markdown",
   "metadata": {
    "slideshow": {
     "slide_type": "fragment"
    }
   },
   "source": [
    "* Need better tested and better documented code base."
   ]
  },
  {
   "cell_type": "markdown",
   "metadata": {
    "slideshow": {
     "slide_type": "fragment"
    }
   },
   "source": [
    "* Need more user friendly and intuitive API, along with simple channels for code development."
   ]
  },
  {
   "cell_type": "markdown",
   "metadata": {
    "slideshow": {
     "slide_type": "fragment"
    }
   },
   "source": [
    "* We want `enterprise` to be the base for all of your future pulsar timing residual modeling needs."
   ]
  },
  {
   "cell_type": "markdown",
   "metadata": {
    "slideshow": {
     "slide_type": "slide"
    }
   },
   "source": [
    "## `enterprise` code architecture\n",
    "<img src=\"img/signal_collection.jpg\" max-width=\"100%\"/>\n",
    "\n",
    "* The data (residuals) are modeled as the sum of `Signal` components which have their own `Parameter`s.\n",
    "* The sum of all `Signal` components is a `SignalCollection`."
   ]
  },
  {
   "cell_type": "markdown",
   "metadata": {
    "slideshow": {
     "slide_type": "subslide"
    }
   },
   "source": [
    "## `enterprise` code architecture\n",
    "<img src=\"img/pta.jpg\" max-width=\"100%\"/>\n",
    "\n",
    "* Each pulsar's model is a `SignalCollection` that are combined to form a `PTA`.\n",
    "* Common `Signal`s are shared across pulsars \n",
    "* `Likelihood`s act on `PTA`s. "
   ]
  },
  {
   "cell_type": "markdown",
   "metadata": {
    "slideshow": {
     "slide_type": "slide"
    }
   },
   "source": [
    "## Anatomy of an `enterprise` `Signal`\n",
    "* $\\delta\\tau = \\sum_{i} X(\\phi_{\\rm basis})_{(i)}w_{(i)} + s(\\phi_{\\rm det}) + n(\\phi_{\\rm white})$\n",
    "* $w_{(i)} | K_{(i)} = \\mathrm{Normal}(0, K(\\phi_{\\rm gp})_{(i)})$\n",
    "\n",
    "\n",
    "```python\n",
    "class Signal(object):\n",
    "    \"\"\"Base class for Signal objects.\"\"\"\n",
    "\n",
    "    def get_ndiag(self, params):\n",
    "        \"\"\"Returns the diagonal of the white noise vector `N`.\n",
    "        This method also supports block diagaonal sparse matrices.\n",
    "        \"\"\"\n",
    "        return None\n",
    "\n",
    "    def get_delay(self, params):\n",
    "        \"\"\"Returns the waveform of a deterministic signal.\"\"\"\n",
    "        return 0\n",
    "\n",
    "    def get_basis(self, params=None):\n",
    "        \"\"\"Returns the basis array of shape N_toa x N_basis.\"\"\"\n",
    "        return None\n",
    "\n",
    "    def get_phi(self, params):\n",
    "        \"\"\"Returns a diagonal or full rank covaraince matrix \n",
    "        of the basis amplitudes.\"\"\"\n",
    "        return None\n",
    "\n",
    "    def get_phiinv(self, params):\n",
    "        \"\"\"Returns inverse of the covaraince of basis amplitudes.\"\"\"\n",
    "        return None\n",
    "```\n"
   ]
  },
  {
   "cell_type": "markdown",
   "metadata": {
    "slideshow": {
     "slide_type": "slide"
    }
   },
   "source": [
    "<img src=\"img/engage.jpg\" max-width=\"100%\"/>"
   ]
  },
  {
   "cell_type": "markdown",
   "metadata": {
    "slideshow": {
     "slide_type": "slide"
    }
   },
   "source": [
    "## Standard Noise Analysis"
   ]
  },
  {
   "cell_type": "code",
   "execution_count": 3,
   "metadata": {
    "slideshow": {
     "slide_type": "skip"
    }
   },
   "outputs": [],
   "source": [
    "psr = Pulsar(datadir + '/B1855+09_NANOGrav_9yv1.gls.par', datadir + '/B1855+09_NANOGrav_9yv1.tim')"
   ]
  },
  {
   "cell_type": "markdown",
   "metadata": {},
   "source": [
    "* Set up Parameters"
   ]
  },
  {
   "cell_type": "code",
   "execution_count": 15,
   "metadata": {},
   "outputs": [],
   "source": [
    "# define white noise parameters\n",
    "efac = parameter.Uniform(0.1, 10)\n",
    "log10_equad = parameter.Uniform(-10, -5)\n",
    "log10_ecorr = parameter.Uniform(-10, -5)\n",
    "\n",
    "# red noise parameters\n",
    "log10_A = parameter.Uniform(-20, -11)\n",
    "gamma = parameter.Uniform(0, 7)"
   ]
  },
  {
   "cell_type": "markdown",
   "metadata": {
    "slideshow": {
     "slide_type": "subslide"
    }
   },
   "source": [
    "* Construct Signal and initialize PTA (of one)"
   ]
  },
  {
   "cell_type": "code",
   "execution_count": 184,
   "metadata": {},
   "outputs": [],
   "source": [
    "# define selection by observing backend\n",
    "selection = selections.Selection(selections.by_backend)\n",
    "\n",
    "# define white noise signals (selection tells it to split based on backend)\n",
    "ef = white_signals.MeasurementNoise(efac=efac, selection=selection)\n",
    "eq = white_signals.EquadNoise(log10_equad=log10_equad, selection=selection)\n",
    "ec = white_signals.EcorrKernelNoise(log10_ecorr=log10_ecorr, \n",
    "                                    selection=selection)\n",
    "\n",
    "# define powerlaw PSD and red noise signal\n",
    "pl = utils.powerlaw(log10_A=log10_A, gamma=gamma)\n",
    "rn = gp_signals.FourierBasisGP(pl, components=30)\n",
    "\n",
    "# linear timing model\n",
    "tm = gp_signals.TimingModel()\n",
    "\n",
    "# total signal (this is some high tech shit right here!)\n",
    "s = ef + eq  + ec + tm + rn \n",
    "\n",
    "# setup PTA\n",
    "pta = signal_base.PTA([s(psr)])"
   ]
  },
  {
   "cell_type": "markdown",
   "metadata": {
    "slideshow": {
     "slide_type": "subslide"
    }
   },
   "source": [
    "* Check parameterization with:"
   ]
  },
  {
   "cell_type": "code",
   "execution_count": 18,
   "metadata": {},
   "outputs": [
    {
     "name": "stdout",
     "output_type": "stream",
     "text": [
      "[\"B1855+09_430_ASP_efac\":Uniform(0.1,10), \"B1855+09_430_ASP_log10_ecorr\":Uniform(-10,-5), \"B1855+09_430_ASP_log10_equad\":Uniform(-10,-5), \"B1855+09_430_PUPPI_efac\":Uniform(0.1,10), \"B1855+09_430_PUPPI_log10_ecorr\":Uniform(-10,-5), \"B1855+09_430_PUPPI_log10_equad\":Uniform(-10,-5), \"B1855+09_L-wide_ASP_efac\":Uniform(0.1,10), \"B1855+09_L-wide_ASP_log10_ecorr\":Uniform(-10,-5), \"B1855+09_L-wide_ASP_log10_equad\":Uniform(-10,-5), \"B1855+09_L-wide_PUPPI_efac\":Uniform(0.1,10), \"B1855+09_L-wide_PUPPI_log10_ecorr\":Uniform(-10,-5), \"B1855+09_L-wide_PUPPI_log10_equad\":Uniform(-10,-5), \"B1855+09_gamma\":Uniform(0,7), \"B1855+09_log10_A\":Uniform(-20,-11)]\n"
     ]
    }
   ],
   "source": [
    "print pta.params"
   ]
  },
  {
   "cell_type": "markdown",
   "metadata": {},
   "source": [
    "* Access to likelihood and prior function with:"
   ]
  },
  {
   "cell_type": "code",
   "execution_count": 19,
   "metadata": {},
   "outputs": [
    {
     "name": "stdout",
     "output_type": "stream",
     "text": [
      "-6886.41549079\n",
      "-26.1887770544\n"
     ]
    }
   ],
   "source": [
    "# random parameters for testing\n",
    "xs = {p.name: p.sample() for p in pta.params}\n",
    "\n",
    "# likelihood\n",
    "print pta.get_lnlikelihood(xs)\n",
    "\n",
    "# prior\n",
    "print pta.get_lnprior(xs)"
   ]
  },
  {
   "cell_type": "markdown",
   "metadata": {},
   "source": [
    "* These likelihood and prior functions can then be fed to the sampler of your choice!"
   ]
  },
  {
   "cell_type": "markdown",
   "metadata": {
    "slideshow": {
     "slide_type": "slide"
    }
   },
   "source": [
    "## 11-year Stochastic GWB upper limit with ephemeris modeling"
   ]
  },
  {
   "cell_type": "code",
   "execution_count": 20,
   "metadata": {
    "slideshow": {
     "slide_type": "skip"
    }
   },
   "outputs": [],
   "source": [
    "with open(\"data/nano11_DE436.pkl\", \"rb\") as f:\n",
    "    psrs = pickle.load(f) "
   ]
  },
  {
   "cell_type": "code",
   "execution_count": 29,
   "metadata": {
    "slideshow": {
     "slide_type": "skip"
    }
   },
   "outputs": [],
   "source": [
    "with open(\"data/nano11_setpars.pkl\", \"rb\") as f:\n",
    "    setpars = pickle.load(f)"
   ]
  },
  {
   "cell_type": "markdown",
   "metadata": {},
   "source": [
    "* Setup Parameters"
   ]
  },
  {
   "cell_type": "code",
   "execution_count": 182,
   "metadata": {},
   "outputs": [],
   "source": [
    "# white noise parameters\n",
    "# set them to constant here and we will input the noise values \n",
    "# after the model is initialized\n",
    "efac = parameter.Constant()\n",
    "equad = parameter.Constant()\n",
    "ecorr = parameter.Constant()\n",
    "\n",
    "# red noise parameters\n",
    "# LinearExp prior places uniform prior on A while sampling in log10_A\n",
    "log10_A = parameter.LinearExp(-20, -11)\n",
    "gamma = parameter.Uniform(0, 7)\n",
    "\n",
    "# common red noise\n",
    "# naming signals here tells enterprise that these parameters\n",
    "# are shared across pulsars\n",
    "log10_Agw = parameter.LinearExp(-18, -11)('log10_Agw')\n",
    "gamma_gw = parameter.Constant(4.33)('gamma_gw')"
   ]
  },
  {
   "cell_type": "markdown",
   "metadata": {
    "slideshow": {
     "slide_type": "subslide"
    }
   },
   "source": [
    "* Set up Signals"
   ]
  },
  {
   "cell_type": "code",
   "execution_count": null,
   "metadata": {},
   "outputs": [],
   "source": [
    "# define selection by observing backend\n",
    "selection = selections.Selection(selections.by_backend)\n",
    "\n",
    "# define white noise signals\n",
    "ef = white_signals.MeasurementNoise(efac=efac, selection=selection)\n",
    "eq = white_signals.EquadNoise(log10_equad=equad, selection=selection)\n",
    "ec = white_signals.EcorrKernelNoise(log10_ecorr=ecorr, selection=selection)\n",
    "\n",
    "# get overall time span\n",
    "tmin = np.min([p.toas.min() for p in psrs])\n",
    "tmax = np.min([p.toas.max() for p in psrs])\n",
    "Tspan = tmax - tmin\n",
    "\n",
    "# define powerlaw PSD and red noise signal\n",
    "pl = utils.powerlaw(log10_A=log10_A, gamma=gamma)\n",
    "rn = gp_signals.FourierBasisGP(pl, components=30, Tspan=Tspan)\n",
    "\n",
    "# GWB\n",
    "cpl = utils.powerlaw(log10_A=log10_Agw, gamma=gamma_gw)\n",
    "orf = utils.hd_orf()\n",
    "crn = gp_signals.FourierBasisCommonGP(cpl, orf, components=30, Tspan=Tspan)\n",
    "\n",
    "# linear timing model\n",
    "tm = gp_signals.TimingModel()\n",
    "\n",
    "## Physical ephemeris model\n",
    "eph = deterministic_signals.PhysicalEphemerisSignal(use_epoch_toas=True)"
   ]
  },
  {
   "cell_type": "markdown",
   "metadata": {
    "slideshow": {
     "slide_type": "subslide"
    }
   },
   "source": [
    "* Create total signal and intialize PTA"
   ]
  },
  {
   "cell_type": "code",
   "execution_count": null,
   "metadata": {},
   "outputs": [],
   "source": [
    "# total signal \n",
    "s = ef + eq + ec + rn + crn + tm + eph\n",
    "\n",
    "# setup PTA\n",
    "pta = signal_base.PTA([s(p) for p in psrs])\n",
    "\n",
    "# set fixed white noise parameters\n",
    "pta.set_default_params(setpars)"
   ]
  },
  {
   "cell_type": "code",
   "execution_count": 180,
   "metadata": {
    "slideshow": {
     "slide_type": "skip"
    }
   },
   "outputs": [
    {
     "name": "stdout",
     "output_type": "stream",
     "text": [
      "[\"B1855+09_gamma\":Uniform(0,7), \"B1855+09_log10_A\":Uniform(-20,-11), \"B1937+21_gamma\":Uniform(0,7), \"B1937+21_log10_A\":Uniform(-20,-11), \"B1953+29_gamma\":Uniform(0,7), \"B1953+29_log10_A\":Uniform(-20,-11), \"J0023+0923_gamma\":Uniform(0,7), \"J0023+0923_log10_A\":Uniform(-20,-11), \"J0030+0451_gamma\":Uniform(0,7), \"J0030+0451_log10_A\":Uniform(-20,-11), \"J0340+4130_gamma\":Uniform(0,7), \"J0340+4130_log10_A\":Uniform(-20,-11), \"J0613-0200_gamma\":Uniform(0,7), \"J0613-0200_log10_A\":Uniform(-20,-11), \"J0645+5158_gamma\":Uniform(0,7), \"J0645+5158_log10_A\":Uniform(-20,-11), \"J1012+5307_gamma\":Uniform(0,7), \"J1012+5307_log10_A\":Uniform(-20,-11), \"J1024-0719_gamma\":Uniform(0,7), \"J1024-0719_log10_A\":Uniform(-20,-11), \"J1455-3330_gamma\":Uniform(0,7), \"J1455-3330_log10_A\":Uniform(-20,-11), \"J1600-3053_gamma\":Uniform(0,7), \"J1600-3053_log10_A\":Uniform(-20,-11), \"J1614-2230_gamma\":Uniform(0,7), \"J1614-2230_log10_A\":Uniform(-20,-11), \"J1640+2224_gamma\":Uniform(0,7), \"J1640+2224_log10_A\":Uniform(-20,-11), \"J1643-1224_gamma\":Uniform(0,7), \"J1643-1224_log10_A\":Uniform(-20,-11), \"J1713+0747_gamma\":Uniform(0,7), \"J1713+0747_log10_A\":Uniform(-20,-11), \"J1738+0333_gamma\":Uniform(0,7), \"J1738+0333_log10_A\":Uniform(-20,-11), \"J1741+1351_gamma\":Uniform(0,7), \"J1741+1351_log10_A\":Uniform(-20,-11), \"J1744-1134_gamma\":Uniform(0,7), \"J1744-1134_log10_A\":Uniform(-20,-11), \"J1747-4036_gamma\":Uniform(0,7), \"J1747-4036_log10_A\":Uniform(-20,-11), \"J1853+1303_gamma\":Uniform(0,7), \"J1853+1303_log10_A\":Uniform(-20,-11), \"J1903+0327_gamma\":Uniform(0,7), \"J1903+0327_log10_A\":Uniform(-20,-11), \"J1909-3744_gamma\":Uniform(0,7), \"J1909-3744_log10_A\":Uniform(-20,-11), \"J1910+1256_gamma\":Uniform(0,7), \"J1910+1256_log10_A\":Uniform(-20,-11), \"J1918-0642_gamma\":Uniform(0,7), \"J1918-0642_log10_A\":Uniform(-20,-11), \"J1923+2515_gamma\":Uniform(0,7), \"J1923+2515_log10_A\":Uniform(-20,-11), \"J1944+0907_gamma\":Uniform(0,7), \"J1944+0907_log10_A\":Uniform(-20,-11), \"J2010-1323_gamma\":Uniform(0,7), \"J2010-1323_log10_A\":Uniform(-20,-11), \"J2017+0603_gamma\":Uniform(0,7), \"J2017+0603_log10_A\":Uniform(-20,-11), \"J2043+1711_gamma\":Uniform(0,7), \"J2043+1711_log10_A\":Uniform(-20,-11), \"J2145-0750_gamma\":Uniform(0,7), \"J2145-0750_log10_A\":Uniform(-20,-11), \"J2214+3000_gamma\":Uniform(0,7), \"J2214+3000_log10_A\":Uniform(-20,-11), \"J2302+4442_gamma\":Uniform(0,7), \"J2302+4442_log10_A\":Uniform(-20,-11), \"J2317+1439_gamma\":Uniform(0,7), \"J2317+1439_log10_A\":Uniform(-20,-11), \"d_jupiter_mass\": Normal(0,1.5497669e-11), \"d_neptune_mass\": Normal(0,7.96103855e-11), \"d_saturn_mass\": Normal(0,8.17306184e-12), \"d_uranus_mass\": Normal(0,5.71923361e-11), \"frame_drift_rate\":Uniform(-1e-09,1e-09), \"jup_orb_elements\":Uniform(-0.05,0.05)[6], \"log10_Agw\":Uniform(-18,-11)]\n"
     ]
    }
   ],
   "source": [
    "print pta.params"
   ]
  },
  {
   "cell_type": "markdown",
   "metadata": {
    "slideshow": {
     "slide_type": "slide"
    }
   },
   "source": [
    "## That's great and all, but what if I want to make a new signal?\n",
    "\n",
    "* There are 3 types of built in generic signals for different signal types\n",
    "    * `gp_signals.BasisGP` for Gaussian Process signals that have a set of *basis functions* and a *kernel*.\n",
    "    * `white_signals.WhiteNoise` for white noise signals with a specific *variance*.\n",
    "    * `deterministic_signals.Deterministic` for determinisic signals that return a *delay waveform*."
   ]
  },
  {
   "cell_type": "markdown",
   "metadata": {
    "slideshow": {
     "slide_type": "slide"
    }
   },
   "source": [
    "## Generic Gaussian Process Signal\n",
    "\n",
    "* Suppose we want to do Ridge regression on the linear timing model (Gaussian prior on coefficient)"
   ]
  },
  {
   "cell_type": "code",
   "execution_count": 45,
   "metadata": {},
   "outputs": [],
   "source": [
    "@signal_base.function\n",
    "def scaled_tm_basis(Mmat):\n",
    "    \"\"\"Returns mean and variance scaled timing model\n",
    "    design matrix and weights to be used in prior \n",
    "    function.\"\"\"\n",
    "    \n",
    "    mn = Mmat.mean(axis=0)\n",
    "    sd = Mmat.std(axis=0)\n",
    "    \n",
    "    ret = Mmat.copy()\n",
    "    ret[:, 1:] -= mn[1:]\n",
    "    ret[:, 1:] /= sd[None, 1:]\n",
    "    \n",
    "    return ret, np.ones_like(mn)\n",
    "\n",
    "@signal_base.function\n",
    "def ridge_prior(weights, log10_variance=-14):\n",
    "    \"\"\"Return gaussian prior with variance parameter.\"\"\"\n",
    "    return weights * 10**(log10_variance)"
   ]
  },
  {
   "cell_type": "markdown",
   "metadata": {},
   "source": [
    "* Basis function must return an `ntoa` x `nbasis` array and an `nbasis` vector of weights.\n",
    "* Prior function must return either an `nbasis` array (diagonal of covariance matrix) or the full `nbasis` x `nbasis` covariance matrix."
   ]
  },
  {
   "cell_type": "markdown",
   "metadata": {
    "slideshow": {
     "slide_type": "subslide"
    }
   },
   "source": [
    "* Can be added to model via:"
   ]
  },
  {
   "cell_type": "code",
   "execution_count": 59,
   "metadata": {},
   "outputs": [],
   "source": [
    "log10_variance = parameter.Uniform(-20, -10)\n",
    "basis = scaled_tm_basis()\n",
    "prior = ridge_prior(log10_variance=log10_variance)\n",
    "ridge = gp_signals.BasisGP(prior, basis, name='ridge')"
   ]
  },
  {
   "cell_type": "code",
   "execution_count": null,
   "metadata": {
    "slideshow": {
     "slide_type": "skip"
    }
   },
   "outputs": [],
   "source": [
    "# can intialize this single signal to check\n",
    "ridge_signal = ridge(psrs[0])\n",
    "print(ridge_signal.params)\n",
    "params = {p.name: p.sample() for p in ridge_signal.params}\n",
    "\n",
    "# print basis\n",
    "print(ridge_signal.get_basis(params))\n",
    "\n",
    "# print diagonal of prior covariance matrix\n",
    "print(ridge_signal.get_phi(params))"
   ]
  },
  {
   "cell_type": "markdown",
   "metadata": {
    "slideshow": {
     "slide_type": "slide"
    }
   },
   "source": [
    "## Generic White Noise Signal\n",
    "\n",
    "* Suppose we want to add a DMEQUAD signal:"
   ]
  },
  {
   "cell_type": "code",
   "execution_count": 48,
   "metadata": {},
   "outputs": [],
   "source": [
    "# define DM EQUAD variance function\n",
    "@signal_base.function\n",
    "def dmequad_ndiag(freqs, log10_dmequad=-8):\n",
    "    \"\"\"Reads in radio frequencies and DMEQUAD value and outputs variance.\"\"\"\n",
    "    return np.ones_like(freqs) * (1400/freqs)**4 * 10**(2*log10_dmequad)"
   ]
  },
  {
   "cell_type": "markdown",
   "metadata": {},
   "source": [
    "* Variance function must return the variance in seconds$^{2}$.\n",
    "* Because this is an `enterprise` `Function` it reads `freqs` directly from the `Pulsar` object."
   ]
  },
  {
   "cell_type": "markdown",
   "metadata": {
    "slideshow": {
     "slide_type": "fragment"
    }
   },
   "source": [
    "* can be added to signal via:"
   ]
  },
  {
   "cell_type": "code",
   "execution_count": 52,
   "metadata": {
    "slideshow": {
     "slide_type": "-"
    }
   },
   "outputs": [],
   "source": [
    "log10_dmequad = parameter.Uniform(-10, -5)\n",
    "dmvariance = dmequad_ndiag(log10_dmequad=log10_equad)\n",
    "dmeq = white_signals.WhiteNoise(dmvariance)"
   ]
  },
  {
   "cell_type": "code",
   "execution_count": 58,
   "metadata": {
    "slideshow": {
     "slide_type": "skip"
    }
   },
   "outputs": [
    {
     "name": "stdout",
     "output_type": "stream",
     "text": [
      "[\"B1855+09_log10_dmequad\":Uniform(-10,-5)]\n",
      "[  1.41104773e-20   1.51135064e-20   1.36401696e-20 ...,   1.43430536e-18\n",
      "   1.47540039e-18   1.45466507e-18]\n"
     ]
    }
   ],
   "source": [
    "# can intialize this single signal to check\n",
    "dmequad_signal = dmeq(psrs[0])\n",
    "print(dmequad_signal.params)\n",
    "params = {p.name: p.sample() for p in dmequad_signal.params}\n",
    "\n",
    "# print variance\n",
    "print(dmequad_signal.get_ndiag(params))"
   ]
  },
  {
   "cell_type": "markdown",
   "metadata": {
    "slideshow": {
     "slide_type": "slide"
    }
   },
   "source": [
    "## Generic Deterministic Signal\n",
    "\n",
    "* Suppose we want to add a wavelet signal."
   ]
  },
  {
   "cell_type": "code",
   "execution_count": 72,
   "metadata": {},
   "outputs": [],
   "source": [
    "@signal_base.function\n",
    "def wavelet(toas, log10_A=-7, log10_Q=2, t0=55000, log10_f0=-7.5, phi0=0):\n",
    "    # convert units\n",
    "    A = 10**log10_A\n",
    "    Q = 10**log10_Q * const.day\n",
    "    t0 *= const.day\n",
    "    f0 = 10**log10_f0\n",
    "    wv = A * np.cos(2*np.pi*f0*(toas-t0)+phi0) * np.exp(-(toas-t0)**2/2/Q**2)\n",
    "    return wv"
   ]
  },
  {
   "cell_type": "markdown",
   "metadata": {},
   "source": [
    "* Waveform function must return delay waveform in seconds"
   ]
  },
  {
   "cell_type": "markdown",
   "metadata": {
    "slideshow": {
     "slide_type": "fragment"
    }
   },
   "source": [
    "* Can be added to signal via:"
   ]
  },
  {
   "cell_type": "code",
   "execution_count": 78,
   "metadata": {},
   "outputs": [],
   "source": [
    "log10_A = parameter.Uniform(-10, -5)\n",
    "log10_Q = parameter.Uniform(0, 3)\n",
    "t0 = parameter.Uniform(53000, 58000)\n",
    "log10_f0 = parameter.Uniform(-9, -6)\n",
    "phi0 = parameter.Uniform(0, 2*np.pi)\n",
    "wf = wavelet(log10_A=log10_A, log10_Q=log10_Q, t0=t0, \n",
    "             log10_f0=log10_f0, phi0=phi0)\n",
    "wvlt = deterministic_signals.Deterministic(wf)"
   ]
  },
  {
   "cell_type": "code",
   "execution_count": 89,
   "metadata": {
    "slideshow": {
     "slide_type": "skip"
    }
   },
   "outputs": [
    {
     "name": "stdout",
     "output_type": "stream",
     "text": [
      "[\"B1855+09_t0\":Uniform(53000,58000), \"B1855+09_log10_A\":Uniform(-10,-5), \"B1855+09_phi0\":Uniform(0,6.28318530718), \"B1855+09_log10_f0\":Uniform(-9,-6), \"B1855+09_log10_Q\":Uniform(0,3)]\n"
     ]
    },
    {
     "data": {
      "text/plain": [
       "[<matplotlib.lines.Line2D at 0x129bb0e10>]"
      ]
     },
     "execution_count": 89,
     "metadata": {},
     "output_type": "execute_result"
    },
    {
     "data": {
      "image/png": "[encoded data removed]",
      "text/plain": [
       "<matplotlib.figure.Figure at 0x12265f610>"
      ]
     },
     "metadata": {
      "image/png": {
       "height": 271,
       "width": 372
      }
     },
     "output_type": "display_data"
    }
   ],
   "source": [
    "# initialize signal to check\n",
    "wavelet_signal = wvlt(psrs[0])\n",
    "print(wavelet_signal.params)\n",
    "\n",
    "params = {p.name: p.sample() for p in wavelet_signal.params}\n",
    "\n",
    "wave = wavelet_signal.get_delay(params)\n",
    "plt.plot(psrs[0].toas, wave)"
   ]
  },
  {
   "cell_type": "markdown",
   "metadata": {
    "slideshow": {
     "slide_type": "slide"
    }
   },
   "source": [
    "## Custom Signals\n",
    "\n",
    "* It may be the case that your signal doesn't fit nicely into the above categories\n",
    "* Maybe you need to do a lot of work to set up the signal (reading in auxiliary files, interpolations, etc.)\n",
    "* In that case you may have to do a bit more work, but not too much :)\n",
    "* You can subclass one of the existing generic signal types and modify the methods or you can subclass the base `Signal` class if your signal is very different."
   ]
  },
  {
   "cell_type": "markdown",
   "metadata": {
    "slideshow": {
     "slide_type": "subslide"
    }
   },
   "source": [
    "## Fourier Basis example\n",
    "\n",
    "* This `FourierBasisGP` class is actually part of `enterprise` but it works for an example of how to sublcass an existing `Signal`.\n",
    "* Remember we use *Class Factories* not just classes. See the [documentation](https://enterprise.readthedocs.io/en/latest/data.html#class-factories) on this for more details."
   ]
  },
  {
   "cell_type": "code",
   "execution_count": 91,
   "metadata": {},
   "outputs": [],
   "source": [
    "def FourierBasisGP(spectrum, components=20,\n",
    "                   selection=selections.Selection(selections.no_selection),\n",
    "                   Tspan=None):\n",
    "    \"\"\"Convenience function to return a BasisGP class with a\n",
    "    fourier basis.\"\"\"\n",
    "\n",
    "    # use fourier basis and use BasisGP\n",
    "    basis = utils.createfourierdesignmatrix_red(nmodes=components, Tspan=Tspan)\n",
    "    BaseClass = BasisGP(spectrum, basis, selection=selection)\n",
    "\n",
    "    class FourierBasisGP(BaseClass):\n",
    "        signal_type = 'basis'\n",
    "        signal_name = 'red noise'\n",
    "\n",
    "    return FourierBasisGP"
   ]
  },
  {
   "cell_type": "markdown",
   "metadata": {},
   "source": [
    "* In this example we simply define the Fourier Basis inside of the factory and don't overwrite any methods."
   ]
  },
  {
   "cell_type": "markdown",
   "metadata": {
    "slideshow": {
     "slide_type": "subslide"
    }
   },
   "source": [
    "## Subclassing `Deterministic` example\n",
    "\n",
    "* Say we want to use the wavelet signal defined above, but we don't want to have to evaluate it for all of the per-channel TOAs\n",
    "* We would rather use the epochs to evaluate the waveform and then interpolate back on to the TOAs in the end\n",
    "* We can do that as follows"
   ]
  },
  {
   "cell_type": "code",
   "execution_count": 177,
   "metadata": {
    "slideshow": {
     "slide_type": "subslide"
    }
   },
   "outputs": [],
   "source": [
    "def WaveletSignal(log10_A, log10_Q, t0, log10_f0, phi0, use_epoch_toas=True):\n",
    "    \"\"\"Wavelet signal with option to use epoch TOAs\"\"\"\n",
    "\n",
    "    # setup wavelet signal and use Deterministic\n",
    "    wf = wavelet(log10_A=log10_A, log10_Q=log10_Q, t0=t0, \n",
    "                 log10_f0=log10_f0, phi0=phi0)\n",
    "    BaseClass = deterministic_signals.Deterministic(wf, name='wavelet')\n",
    "\n",
    "    class WaveletSignal(BaseClass):\n",
    "\n",
    "        def __init__(self, psr):\n",
    "\n",
    "            super(WaveletSignal, self).__init__(psr)\n",
    "\n",
    "            if use_epoch_toas:\n",
    "                # get quantization matrix and calculate daily average TOAs\n",
    "                U, _ = utils.create_quantization_matrix(psr.toas, nmin=1)\n",
    "                self.uinds = utils.quant2ind(U)\n",
    "                avetoas = np.array([psr.toas[sc].mean() for sc in self.uinds])\n",
    "                \n",
    "                # replace kwarg in waveform with avetoas instead of toas\n",
    "                self._wf[''].add_kwarg(toas=avetoas)\n",
    "\n",
    "        @signal_base.cache_call('delay_params')\n",
    "        def get_delay(self, params):\n",
    "            delay = self._wf[''](params=params)\n",
    "            if use_epoch_toas:\n",
    "                for slc, val in zip(self.uinds, delay):\n",
    "                    self._delay[slc] = val\n",
    "                return self._delay\n",
    "            else:\n",
    "                return delay\n",
    "\n",
    "    return WaveletSignal"
   ]
  },
  {
   "cell_type": "markdown",
   "metadata": {},
   "source": [
    "* This is a bit advanced but gives you an idea of how you can make completely custom signals."
   ]
  },
  {
   "cell_type": "code",
   "execution_count": 173,
   "metadata": {
    "slideshow": {
     "slide_type": "skip"
    }
   },
   "outputs": [],
   "source": [
    "# check to make sure they give the same answer\n",
    "log10_A = parameter.Uniform(-10, -5)\n",
    "log10_Q = parameter.Uniform(0, 3)\n",
    "t0 = parameter.Uniform(53000, 58000)\n",
    "log10_f0 = parameter.Uniform(-9, -6)\n",
    "phi0 = parameter.Uniform(0, 2*np.pi)\n",
    "wave = WaveletSignal(log10_A=log10_A, log10_Q=log10_Q, t0=t0, \n",
    "                     log10_f0=log10_f0, phi0=phi0)\n",
    "wave2 = WaveletSignal(log10_A=log10_A, log10_Q=log10_Q, t0=t0, \n",
    "                     log10_f0=log10_f0, phi0=phi0, use_epoch_toas=False)"
   ]
  },
  {
   "cell_type": "code",
   "execution_count": 174,
   "metadata": {
    "slideshow": {
     "slide_type": "skip"
    }
   },
   "outputs": [],
   "source": [
    "wv1 = wave(psrs[0])\n",
    "wv2 = wave2(psrs[0])\n",
    "\n",
    "params = {p.name: p.sample() for p in wv1.params}\n",
    "d1 = wv1.get_delay(params=params)\n",
    "d2 = wv2.get_delay(params=params)"
   ]
  },
  {
   "cell_type": "code",
   "execution_count": 175,
   "metadata": {
    "slideshow": {
     "slide_type": "skip"
    }
   },
   "outputs": [
    {
     "data": {
      "text/plain": [
       "[<matplotlib.lines.Line2D at 0x1310ca650>]"
      ]
     },
     "execution_count": 175,
     "metadata": {},
     "output_type": "execute_result"
    },
    {
     "data": {
      "image/png": "[encoded data removed]",
      "text/plain": [
       "<matplotlib.figure.Figure at 0x1310cae10>"
      ]
     },
     "metadata": {
      "image/png": {
       "height": 262,
       "width": 420
      }
     },
     "output_type": "display_data"
    }
   ],
   "source": [
    "plt.plot(psrs[0].toas, d1)\n",
    "plt.plot(psrs[0].toas, d2)"
   ]
  },
  {
   "cell_type": "markdown",
   "metadata": {
    "slideshow": {
     "slide_type": "slide"
    }
   },
   "source": [
    "## Non-stationary `Signal`s via `Selection`s\n",
    "\n",
    "* You might have noticed the `selection` arguments above.\n",
    "* This allows us to split up the signal into different segments (per backend for example) via a user defined `Selection` function\n",
    "* All base `BasisGP`, `WhiteNoise`, and `Deterministic` `Signals` support selection.\n",
    "* Say we want to model the first half of the data independently from the rest for a certain signal, we can define the following:"
   ]
  },
  {
   "cell_type": "code",
   "execution_count": 178,
   "metadata": {},
   "outputs": [],
   "source": [
    "def cut_half(toas):\n",
    "    \"\"\"Selection function to split by data segment\"\"\"\n",
    "    midpoint = (toas.max() + toas.min()) / 2\n",
    "    return dict(zip(['t1', 't2'], [toas <= midpoint, toas > midpoint]))"
   ]
  },
  {
   "cell_type": "markdown",
   "metadata": {},
   "source": [
    "* Use `selection=selections.Selection(cut_half)` as a keyword argument in the signal and thats it!"
   ]
  },
  {
   "cell_type": "markdown",
   "metadata": {
    "slideshow": {
     "slide_type": "slide"
    }
   },
   "source": [
    "## And now...\n",
    "\n",
    "<iframe width=\"560\" height=\"315\" src=\"https://www.youtube.com/embed/-ZxHAZChcYU\" frameborder=\"0\" allowfullscreen></iframe>"
   ]
  },
  {
   "cell_type": "code",
   "execution_count": null,
   "metadata": {},
   "outputs": [],
   "source": []
  }
 ],
 "metadata": {
  "celltoolbar": "Slideshow",
  "kernelspec": {
   "display_name": "Python 2",
   "language": "python",
   "name": "python2"
  },
  "language_info": {
   "codemirror_mode": {
    "name": "ipython",
    "version": 2
   },
   "file_extension": ".py",
   "mimetype": "text/x-python",
   "name": "python",
   "nbconvert_exporter": "python",
   "pygments_lexer": "ipython2",
   "version": "2.7.13"
  }
 },
 "nbformat": 4,
 "nbformat_minor": 2
}
